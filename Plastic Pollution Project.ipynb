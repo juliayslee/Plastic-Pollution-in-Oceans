{
 "cells": [
  {
   "cell_type": "code",
   "execution_count": 1,
   "metadata": {},
   "outputs": [
    {
     "name": "stderr",
     "output_type": "stream",
     "text": [
      "/Users/florist/opt/anaconda3/lib/python3.7/site-packages/statsmodels/tools/_testing.py:19: FutureWarning: pandas.util.testing is deprecated. Use the functions in the public API at pandas.testing instead.\n",
      "  import pandas.util.testing as tm\n"
     ]
    }
   ],
   "source": [
    "import pandas as pd\n",
    "import numpy as np\n",
    "import seaborn as sns\n",
    "import matplotlib.pyplot as plt\n",
    "%matplotlib inline"
   ]
  },
  {
   "cell_type": "code",
   "execution_count": 2,
   "metadata": {},
   "outputs": [
    {
     "data": {
      "text/html": [
       "<div>\n",
       "<style scoped>\n",
       "    .dataframe tbody tr th:only-of-type {\n",
       "        vertical-align: middle;\n",
       "    }\n",
       "\n",
       "    .dataframe tbody tr th {\n",
       "        vertical-align: top;\n",
       "    }\n",
       "\n",
       "    .dataframe thead th {\n",
       "        text-align: right;\n",
       "    }\n",
       "</style>\n",
       "<table border=\"1\" class=\"dataframe\">\n",
       "  <thead>\n",
       "    <tr style=\"text-align: right;\">\n",
       "      <th></th>\n",
       "      <th>Country</th>\n",
       "      <th>Economic status</th>\n",
       "      <th>Coastal population</th>\n",
       "      <th>Waste generation rate [kg/person/day]</th>\n",
       "      <th>% Plastic in waste stream</th>\n",
       "      <th>% Inadequately managed waste</th>\n",
       "      <th>% Littered waste</th>\n",
       "      <th>Waste generation [kg/day]</th>\n",
       "      <th>Plastic waste generation [kg/day]</th>\n",
       "      <th>Inadequately managed plastic waste [kg/day]</th>\n",
       "      <th>Plastic waste littered\\n [kg/day]</th>\n",
       "      <th>Mismanaged plastic waste [kg/person/day]</th>\n",
       "      <th>Mismanaged plastic waste in 2010\\n [tonnes]</th>\n",
       "      <th>Mismanaged plastic waste in 2025\\n [tonnes]</th>\n",
       "    </tr>\n",
       "  </thead>\n",
       "  <tbody>\n",
       "    <tr>\n",
       "      <th>0</th>\n",
       "      <td>Albania</td>\n",
       "      <td>LMI</td>\n",
       "      <td>2,530,533</td>\n",
       "      <td>0.77</td>\n",
       "      <td>9.0</td>\n",
       "      <td>45.0</td>\n",
       "      <td>2.0</td>\n",
       "      <td>1,948,510</td>\n",
       "      <td>174,392</td>\n",
       "      <td>77,897</td>\n",
       "      <td>3,488</td>\n",
       "      <td>0.032</td>\n",
       "      <td>29,705</td>\n",
       "      <td>63,051</td>\n",
       "    </tr>\n",
       "    <tr>\n",
       "      <th>1</th>\n",
       "      <td>Algeria8</td>\n",
       "      <td>UMI</td>\n",
       "      <td>16,556,580</td>\n",
       "      <td>1.20</td>\n",
       "      <td>12.0</td>\n",
       "      <td>58.0</td>\n",
       "      <td>2.0</td>\n",
       "      <td>19,867,896</td>\n",
       "      <td>2,374,214</td>\n",
       "      <td>1,378,693</td>\n",
       "      <td>47,484</td>\n",
       "      <td>0.086</td>\n",
       "      <td>520,555</td>\n",
       "      <td>1,017,444</td>\n",
       "    </tr>\n",
       "    <tr>\n",
       "      <th>2</th>\n",
       "      <td>Angola</td>\n",
       "      <td>LMI</td>\n",
       "      <td>3,790,041</td>\n",
       "      <td>0.48</td>\n",
       "      <td>13.0</td>\n",
       "      <td>71.0</td>\n",
       "      <td>2.0</td>\n",
       "      <td>1,819,220</td>\n",
       "      <td>235,589</td>\n",
       "      <td>166,597</td>\n",
       "      <td>4,712</td>\n",
       "      <td>0.045</td>\n",
       "      <td>62,528</td>\n",
       "      <td>136,770</td>\n",
       "    </tr>\n",
       "    <tr>\n",
       "      <th>3</th>\n",
       "      <td>Anguilla</td>\n",
       "      <td>HIC</td>\n",
       "      <td>14,561</td>\n",
       "      <td>2.10</td>\n",
       "      <td>12.0</td>\n",
       "      <td>2.0</td>\n",
       "      <td>2.0</td>\n",
       "      <td>30,578</td>\n",
       "      <td>3,654</td>\n",
       "      <td>68</td>\n",
       "      <td>73</td>\n",
       "      <td>0.010</td>\n",
       "      <td>52</td>\n",
       "      <td>73</td>\n",
       "    </tr>\n",
       "    <tr>\n",
       "      <th>4</th>\n",
       "      <td>Antigua &amp; Barbuda</td>\n",
       "      <td>HIC</td>\n",
       "      <td>66,843</td>\n",
       "      <td>5.50</td>\n",
       "      <td>12.0</td>\n",
       "      <td>6.0</td>\n",
       "      <td>2.0</td>\n",
       "      <td>367,637</td>\n",
       "      <td>43,933</td>\n",
       "      <td>2,555</td>\n",
       "      <td>879</td>\n",
       "      <td>0.051</td>\n",
       "      <td>1,253</td>\n",
       "      <td>1,385</td>\n",
       "    </tr>\n",
       "  </tbody>\n",
       "</table>\n",
       "</div>"
      ],
      "text/plain": [
       "             Country Economic status Coastal population  \\\n",
       "0            Albania             LMI          2,530,533   \n",
       "1           Algeria8             UMI         16,556,580   \n",
       "2             Angola             LMI          3,790,041   \n",
       "3           Anguilla             HIC             14,561   \n",
       "4  Antigua & Barbuda             HIC             66,843   \n",
       "\n",
       "   Waste generation rate [kg/person/day]  % Plastic in waste stream  \\\n",
       "0                                   0.77                        9.0   \n",
       "1                                   1.20                       12.0   \n",
       "2                                   0.48                       13.0   \n",
       "3                                   2.10                       12.0   \n",
       "4                                   5.50                       12.0   \n",
       "\n",
       "   % Inadequately managed waste  % Littered waste Waste generation [kg/day]  \\\n",
       "0                          45.0               2.0                 1,948,510   \n",
       "1                          58.0               2.0                19,867,896   \n",
       "2                          71.0               2.0                 1,819,220   \n",
       "3                           2.0               2.0                    30,578   \n",
       "4                           6.0               2.0                   367,637   \n",
       "\n",
       "  Plastic waste generation [kg/day]  \\\n",
       "0                           174,392   \n",
       "1                         2,374,214   \n",
       "2                           235,589   \n",
       "3                             3,654   \n",
       "4                            43,933   \n",
       "\n",
       "  Inadequately managed plastic waste [kg/day]  \\\n",
       "0                                      77,897   \n",
       "1                                   1,378,693   \n",
       "2                                     166,597   \n",
       "3                                          68   \n",
       "4                                       2,555   \n",
       "\n",
       "  Plastic waste littered\\n [kg/day] Mismanaged plastic waste [kg/person/day]  \\\n",
       "0                             3,488                                    0.032   \n",
       "1                            47,484                                    0.086   \n",
       "2                             4,712                                    0.045   \n",
       "3                                73                                    0.010   \n",
       "4                               879                                    0.051   \n",
       "\n",
       "  Mismanaged plastic waste in 2010\\n [tonnes]  \\\n",
       "0                                      29,705   \n",
       "1                                     520,555   \n",
       "2                                      62,528   \n",
       "3                                          52   \n",
       "4                                       1,253   \n",
       "\n",
       "  Mismanaged plastic waste in 2025\\n [tonnes]  \n",
       "0                                     63,051   \n",
       "1                                  1,017,444   \n",
       "2                                    136,770   \n",
       "3                                         73   \n",
       "4                                      1,385   "
      ]
     },
     "execution_count": 2,
     "metadata": {},
     "output_type": "execute_result"
    }
   ],
   "source": [
    "df = pd.read_csv('Plastic waste from land to ocean- by country.xlsx - Jambeck et al. (2014).csv')\n",
    "\n",
    "df.head()"
   ]
  },
  {
   "cell_type": "code",
   "execution_count": 3,
   "metadata": {},
   "outputs": [
    {
     "name": "stdout",
     "output_type": "stream",
     "text": [
      "(193, 14)\n",
      "Country                                         object\n",
      "Economic status                                 object\n",
      "Coastal population                              object\n",
      "Waste generation rate [kg/person/day]          float64\n",
      "% Plastic in waste stream                      float64\n",
      "% Inadequately managed waste                   float64\n",
      "% Littered waste                               float64\n",
      "Waste generation [kg/day]                       object\n",
      "Plastic waste generation [kg/day]               object\n",
      "Inadequately managed plastic waste [kg/day]     object\n",
      "Plastic waste littered\\n [kg/day]               object\n",
      "Mismanaged plastic waste [kg/person/day]        object\n",
      "Mismanaged plastic waste in 2010\\n [tonnes]     object\n",
      "Mismanaged plastic waste in 2025\\n [tonnes]     object\n",
      "dtype: object\n",
      "       Waste generation rate [kg/person/day]  % Plastic in waste stream  \\\n",
      "count                             192.000000                 192.000000   \n",
      "mean                                1.642760                  11.515625   \n",
      "std                                 1.365327                   3.320532   \n",
      "min                                 0.140000                   2.000000   \n",
      "25%                                 0.790000                  11.000000   \n",
      "50%                                 1.240000                  12.000000   \n",
      "75%                                 2.100000                  13.000000   \n",
      "max                                14.400000                  25.000000   \n",
      "\n",
      "       % Inadequately managed waste  % Littered waste  \n",
      "count                    192.000000             192.0  \n",
      "mean                      33.973958               2.0  \n",
      "std                       34.213288               0.0  \n",
      "min                        0.000000               2.0  \n",
      "25%                        0.000000               2.0  \n",
      "50%                       22.000000               2.0  \n",
      "75%                       73.250000               2.0  \n",
      "max                       88.000000               2.0  \n"
     ]
    }
   ],
   "source": [
    "print(df.shape)\n",
    "print(df.dtypes)\n",
    "print(df.describe())"
   ]
  },
  {
   "cell_type": "code",
   "execution_count": 4,
   "metadata": {},
   "outputs": [],
   "source": [
    "df.loc[192] #no country name, drop\n",
    "df = df.drop(192)"
   ]
  },
  {
   "cell_type": "code",
   "execution_count": 5,
   "metadata": {},
   "outputs": [],
   "source": [
    "df.Country.unique() #some countries contain '8' in their name\n",
    "df['Country'] = df['Country'].str.replace('8', '')"
   ]
  },
  {
   "cell_type": "code",
   "execution_count": 6,
   "metadata": {},
   "outputs": [
    {
     "data": {
      "text/plain": [
       "dtype('float64')"
      ]
     },
     "execution_count": 6,
     "metadata": {},
     "output_type": "execute_result"
    }
   ],
   "source": [
    "df['Waste generation rate [kg/person/day]'].dtype"
   ]
  },
  {
   "cell_type": "code",
   "execution_count": 7,
   "metadata": {},
   "outputs": [],
   "source": [
    "#replace ',' to convert some object types to numeric\n",
    "for cols in df.columns:\n",
    "    if df[cols].dtypes == 'object':\n",
    "        df[cols] = df[cols].str.replace(',', '')\n",
    "    else:\n",
    "        df[cols]"
   ]
  },
  {
   "cell_type": "code",
   "execution_count": 8,
   "metadata": {},
   "outputs": [
    {
     "data": {
      "text/html": [
       "<div>\n",
       "<style scoped>\n",
       "    .dataframe tbody tr th:only-of-type {\n",
       "        vertical-align: middle;\n",
       "    }\n",
       "\n",
       "    .dataframe tbody tr th {\n",
       "        vertical-align: top;\n",
       "    }\n",
       "\n",
       "    .dataframe thead th {\n",
       "        text-align: right;\n",
       "    }\n",
       "</style>\n",
       "<table border=\"1\" class=\"dataframe\">\n",
       "  <thead>\n",
       "    <tr style=\"text-align: right;\">\n",
       "      <th></th>\n",
       "      <th>Country</th>\n",
       "      <th>Economic status</th>\n",
       "      <th>Coastal population</th>\n",
       "      <th>Waste generation rate [kg/person/day]</th>\n",
       "      <th>% Plastic in waste stream</th>\n",
       "      <th>% Inadequately managed waste</th>\n",
       "      <th>% Littered waste</th>\n",
       "      <th>Waste generation [kg/day]</th>\n",
       "      <th>Plastic waste generation [kg/day]</th>\n",
       "      <th>Inadequately managed plastic waste [kg/day]</th>\n",
       "      <th>Plastic waste littered\\n [kg/day]</th>\n",
       "      <th>Mismanaged plastic waste [kg/person/day]</th>\n",
       "      <th>Mismanaged plastic waste in 2010\\n [tonnes]</th>\n",
       "      <th>Mismanaged plastic waste in 2025\\n [tonnes]</th>\n",
       "    </tr>\n",
       "  </thead>\n",
       "  <tbody>\n",
       "    <tr>\n",
       "      <th>0</th>\n",
       "      <td>Albania</td>\n",
       "      <td>LMI</td>\n",
       "      <td>2530533</td>\n",
       "      <td>0.77</td>\n",
       "      <td>9.0</td>\n",
       "      <td>45.0</td>\n",
       "      <td>2.0</td>\n",
       "      <td>1948510</td>\n",
       "      <td>174392</td>\n",
       "      <td>77897</td>\n",
       "      <td>3488</td>\n",
       "      <td>0.032</td>\n",
       "      <td>29705</td>\n",
       "      <td>63051</td>\n",
       "    </tr>\n",
       "    <tr>\n",
       "      <th>1</th>\n",
       "      <td>Algeria</td>\n",
       "      <td>UMI</td>\n",
       "      <td>16556580</td>\n",
       "      <td>1.20</td>\n",
       "      <td>12.0</td>\n",
       "      <td>58.0</td>\n",
       "      <td>2.0</td>\n",
       "      <td>19867896</td>\n",
       "      <td>2374214</td>\n",
       "      <td>1378693</td>\n",
       "      <td>47484</td>\n",
       "      <td>0.086</td>\n",
       "      <td>520555</td>\n",
       "      <td>1017444</td>\n",
       "    </tr>\n",
       "    <tr>\n",
       "      <th>2</th>\n",
       "      <td>Angola</td>\n",
       "      <td>LMI</td>\n",
       "      <td>3790041</td>\n",
       "      <td>0.48</td>\n",
       "      <td>13.0</td>\n",
       "      <td>71.0</td>\n",
       "      <td>2.0</td>\n",
       "      <td>1819220</td>\n",
       "      <td>235589</td>\n",
       "      <td>166597</td>\n",
       "      <td>4712</td>\n",
       "      <td>0.045</td>\n",
       "      <td>62528</td>\n",
       "      <td>136770</td>\n",
       "    </tr>\n",
       "    <tr>\n",
       "      <th>3</th>\n",
       "      <td>Anguilla</td>\n",
       "      <td>HIC</td>\n",
       "      <td>14561</td>\n",
       "      <td>2.10</td>\n",
       "      <td>12.0</td>\n",
       "      <td>2.0</td>\n",
       "      <td>2.0</td>\n",
       "      <td>30578</td>\n",
       "      <td>3654</td>\n",
       "      <td>68</td>\n",
       "      <td>73</td>\n",
       "      <td>0.010</td>\n",
       "      <td>52</td>\n",
       "      <td>73</td>\n",
       "    </tr>\n",
       "    <tr>\n",
       "      <th>4</th>\n",
       "      <td>Antigua &amp; Barbuda</td>\n",
       "      <td>HIC</td>\n",
       "      <td>66843</td>\n",
       "      <td>5.50</td>\n",
       "      <td>12.0</td>\n",
       "      <td>6.0</td>\n",
       "      <td>2.0</td>\n",
       "      <td>367637</td>\n",
       "      <td>43933</td>\n",
       "      <td>2555</td>\n",
       "      <td>879</td>\n",
       "      <td>0.051</td>\n",
       "      <td>1253</td>\n",
       "      <td>1385</td>\n",
       "    </tr>\n",
       "  </tbody>\n",
       "</table>\n",
       "</div>"
      ],
      "text/plain": [
       "             Country Economic status Coastal population  \\\n",
       "0            Albania             LMI            2530533   \n",
       "1            Algeria             UMI           16556580   \n",
       "2             Angola             LMI            3790041   \n",
       "3           Anguilla             HIC              14561   \n",
       "4  Antigua & Barbuda             HIC              66843   \n",
       "\n",
       "   Waste generation rate [kg/person/day]  % Plastic in waste stream  \\\n",
       "0                                   0.77                        9.0   \n",
       "1                                   1.20                       12.0   \n",
       "2                                   0.48                       13.0   \n",
       "3                                   2.10                       12.0   \n",
       "4                                   5.50                       12.0   \n",
       "\n",
       "   % Inadequately managed waste  % Littered waste Waste generation [kg/day]  \\\n",
       "0                          45.0               2.0                   1948510   \n",
       "1                          58.0               2.0                  19867896   \n",
       "2                          71.0               2.0                   1819220   \n",
       "3                           2.0               2.0                     30578   \n",
       "4                           6.0               2.0                    367637   \n",
       "\n",
       "  Plastic waste generation [kg/day]  \\\n",
       "0                            174392   \n",
       "1                           2374214   \n",
       "2                            235589   \n",
       "3                              3654   \n",
       "4                             43933   \n",
       "\n",
       "  Inadequately managed plastic waste [kg/day]  \\\n",
       "0                                       77897   \n",
       "1                                     1378693   \n",
       "2                                      166597   \n",
       "3                                          68   \n",
       "4                                        2555   \n",
       "\n",
       "  Plastic waste littered\\n [kg/day] Mismanaged plastic waste [kg/person/day]  \\\n",
       "0                              3488                                    0.032   \n",
       "1                             47484                                    0.086   \n",
       "2                              4712                                    0.045   \n",
       "3                                73                                    0.010   \n",
       "4                               879                                    0.051   \n",
       "\n",
       "  Mismanaged plastic waste in 2010\\n [tonnes]  \\\n",
       "0                                       29705   \n",
       "1                                      520555   \n",
       "2                                       62528   \n",
       "3                                          52   \n",
       "4                                        1253   \n",
       "\n",
       "  Mismanaged plastic waste in 2025\\n [tonnes]  \n",
       "0                                      63051   \n",
       "1                                    1017444   \n",
       "2                                     136770   \n",
       "3                                         73   \n",
       "4                                       1385   "
      ]
     },
     "execution_count": 8,
     "metadata": {},
     "output_type": "execute_result"
    }
   ],
   "source": [
    "df.head()"
   ]
  },
  {
   "cell_type": "code",
   "execution_count": 9,
   "metadata": {
    "scrolled": true
   },
   "outputs": [],
   "source": [
    "list_to_change = ['Coastal population', 'Waste generation [kg/day]', \n",
    "        'Plastic waste generation [kg/day]',\n",
    "       'Inadequately managed plastic waste [kg/day]',\n",
    "       'Plastic waste littered\\n [kg/day]',\n",
    "       'Mismanaged plastic waste [kg/person/day]',\n",
    "       'Mismanaged plastic waste in 2010\\n [tonnes]',\n",
    "       'Mismanaged plastic waste in 2025\\n [tonnes]']\n",
    "\n",
    "for cols in list_to_change:\n",
    "    df[cols] = pd.to_numeric(df[cols])"
   ]
  },
  {
   "cell_type": "code",
   "execution_count": 10,
   "metadata": {},
   "outputs": [
    {
     "data": {
      "text/plain": [
       "Country                                         object\n",
       "Economic status                                 object\n",
       "Coastal population                               int64\n",
       "Waste generation rate [kg/person/day]          float64\n",
       "% Plastic in waste stream                      float64\n",
       "% Inadequately managed waste                   float64\n",
       "% Littered waste                               float64\n",
       "Waste generation [kg/day]                        int64\n",
       "Plastic waste generation [kg/day]                int64\n",
       "Inadequately managed plastic waste [kg/day]      int64\n",
       "Plastic waste littered\\n [kg/day]                int64\n",
       "Mismanaged plastic waste [kg/person/day]       float64\n",
       "Mismanaged plastic waste in 2010\\n [tonnes]      int64\n",
       "Mismanaged plastic waste in 2025\\n [tonnes]      int64\n",
       "dtype: object"
      ]
     },
     "execution_count": 10,
     "metadata": {},
     "output_type": "execute_result"
    }
   ],
   "source": [
    "df.dtypes"
   ]
  },
  {
   "cell_type": "code",
   "execution_count": 11,
   "metadata": {
    "scrolled": true
   },
   "outputs": [
    {
     "data": {
      "text/html": [
       "<div>\n",
       "<style scoped>\n",
       "    .dataframe tbody tr th:only-of-type {\n",
       "        vertical-align: middle;\n",
       "    }\n",
       "\n",
       "    .dataframe tbody tr th {\n",
       "        vertical-align: top;\n",
       "    }\n",
       "\n",
       "    .dataframe thead th {\n",
       "        text-align: right;\n",
       "    }\n",
       "</style>\n",
       "<table border=\"1\" class=\"dataframe\">\n",
       "  <thead>\n",
       "    <tr style=\"text-align: right;\">\n",
       "      <th></th>\n",
       "      <th>Coastal population</th>\n",
       "      <th>Waste generation rate [kg/person/day]</th>\n",
       "      <th>% Plastic in waste stream</th>\n",
       "      <th>% Inadequately managed waste</th>\n",
       "      <th>% Littered waste</th>\n",
       "      <th>Waste generation [kg/day]</th>\n",
       "      <th>Plastic waste generation [kg/day]</th>\n",
       "      <th>Inadequately managed plastic waste [kg/day]</th>\n",
       "      <th>Plastic waste littered\\n [kg/day]</th>\n",
       "      <th>Mismanaged plastic waste [kg/person/day]</th>\n",
       "      <th>Mismanaged plastic waste in 2010\\n [tonnes]</th>\n",
       "      <th>Mismanaged plastic waste in 2025\\n [tonnes]</th>\n",
       "    </tr>\n",
       "  </thead>\n",
       "  <tbody>\n",
       "    <tr>\n",
       "      <th>count</th>\n",
       "      <td>1.920000e+02</td>\n",
       "      <td>192.000000</td>\n",
       "      <td>192.000000</td>\n",
       "      <td>192.000000</td>\n",
       "      <td>192.0</td>\n",
       "      <td>1.920000e+02</td>\n",
       "      <td>1.920000e+02</td>\n",
       "      <td>1.920000e+02</td>\n",
       "      <td>192.000000</td>\n",
       "      <td>192.000000</td>\n",
       "      <td>1.920000e+02</td>\n",
       "      <td>1.920000e+02</td>\n",
       "    </tr>\n",
       "    <tr>\n",
       "      <th>mean</th>\n",
       "      <td>1.053535e+07</td>\n",
       "      <td>1.642760</td>\n",
       "      <td>11.515625</td>\n",
       "      <td>33.973958</td>\n",
       "      <td>2.0</td>\n",
       "      <td>1.281152e+07</td>\n",
       "      <td>1.420189e+06</td>\n",
       "      <td>4.262948e+05</td>\n",
       "      <td>28403.791667</td>\n",
       "      <td>0.044370</td>\n",
       "      <td>1.659650e+05</td>\n",
       "      <td>3.601213e+05</td>\n",
       "    </tr>\n",
       "    <tr>\n",
       "      <th>std</th>\n",
       "      <td>3.069092e+07</td>\n",
       "      <td>1.365327</td>\n",
       "      <td>3.320532</td>\n",
       "      <td>34.213288</td>\n",
       "      <td>0.0</td>\n",
       "      <td>3.575310e+07</td>\n",
       "      <td>4.143231e+06</td>\n",
       "      <td>1.925674e+06</td>\n",
       "      <td>82864.637909</td>\n",
       "      <td>0.049801</td>\n",
       "      <td>7.210290e+05</td>\n",
       "      <td>1.510122e+06</td>\n",
       "    </tr>\n",
       "    <tr>\n",
       "      <th>min</th>\n",
       "      <td>5.960000e+02</td>\n",
       "      <td>0.140000</td>\n",
       "      <td>2.000000</td>\n",
       "      <td>0.000000</td>\n",
       "      <td>2.0</td>\n",
       "      <td>1.089000e+03</td>\n",
       "      <td>1.410000e+02</td>\n",
       "      <td>0.000000e+00</td>\n",
       "      <td>3.000000</td>\n",
       "      <td>0.001000</td>\n",
       "      <td>1.000000e+00</td>\n",
       "      <td>2.000000e+00</td>\n",
       "    </tr>\n",
       "    <tr>\n",
       "      <th>25%</th>\n",
       "      <td>1.679265e+05</td>\n",
       "      <td>0.790000</td>\n",
       "      <td>11.000000</td>\n",
       "      <td>0.000000</td>\n",
       "      <td>2.0</td>\n",
       "      <td>3.198012e+05</td>\n",
       "      <td>3.561625e+04</td>\n",
       "      <td>3.025000e+01</td>\n",
       "      <td>712.250000</td>\n",
       "      <td>0.006000</td>\n",
       "      <td>1.636000e+03</td>\n",
       "      <td>2.295000e+03</td>\n",
       "    </tr>\n",
       "    <tr>\n",
       "      <th>50%</th>\n",
       "      <td>1.374844e+06</td>\n",
       "      <td>1.240000</td>\n",
       "      <td>12.000000</td>\n",
       "      <td>22.000000</td>\n",
       "      <td>2.0</td>\n",
       "      <td>1.327021e+06</td>\n",
       "      <td>1.427755e+05</td>\n",
       "      <td>1.496850e+04</td>\n",
       "      <td>2855.500000</td>\n",
       "      <td>0.030500</td>\n",
       "      <td>1.538550e+04</td>\n",
       "      <td>2.459250e+04</td>\n",
       "    </tr>\n",
       "    <tr>\n",
       "      <th>75%</th>\n",
       "      <td>7.115553e+06</td>\n",
       "      <td>2.100000</td>\n",
       "      <td>13.000000</td>\n",
       "      <td>73.250000</td>\n",
       "      <td>2.0</td>\n",
       "      <td>9.354860e+06</td>\n",
       "      <td>1.049048e+06</td>\n",
       "      <td>1.366930e+05</td>\n",
       "      <td>20981.250000</td>\n",
       "      <td>0.066000</td>\n",
       "      <td>5.915600e+04</td>\n",
       "      <td>1.456510e+05</td>\n",
       "    </tr>\n",
       "    <tr>\n",
       "      <th>max</th>\n",
       "      <td>2.628924e+08</td>\n",
       "      <td>14.400000</td>\n",
       "      <td>25.000000</td>\n",
       "      <td>88.000000</td>\n",
       "      <td>2.0</td>\n",
       "      <td>2.913466e+08</td>\n",
       "      <td>3.772938e+07</td>\n",
       "      <td>2.353030e+07</td>\n",
       "      <td>754588.000000</td>\n",
       "      <td>0.299000</td>\n",
       "      <td>8.819717e+06</td>\n",
       "      <td>1.781478e+07</td>\n",
       "    </tr>\n",
       "  </tbody>\n",
       "</table>\n",
       "</div>"
      ],
      "text/plain": [
       "       Coastal population  Waste generation rate [kg/person/day]  \\\n",
       "count        1.920000e+02                             192.000000   \n",
       "mean         1.053535e+07                               1.642760   \n",
       "std          3.069092e+07                               1.365327   \n",
       "min          5.960000e+02                               0.140000   \n",
       "25%          1.679265e+05                               0.790000   \n",
       "50%          1.374844e+06                               1.240000   \n",
       "75%          7.115553e+06                               2.100000   \n",
       "max          2.628924e+08                              14.400000   \n",
       "\n",
       "       % Plastic in waste stream  % Inadequately managed waste  \\\n",
       "count                 192.000000                    192.000000   \n",
       "mean                   11.515625                     33.973958   \n",
       "std                     3.320532                     34.213288   \n",
       "min                     2.000000                      0.000000   \n",
       "25%                    11.000000                      0.000000   \n",
       "50%                    12.000000                     22.000000   \n",
       "75%                    13.000000                     73.250000   \n",
       "max                    25.000000                     88.000000   \n",
       "\n",
       "       % Littered waste  Waste generation [kg/day]  \\\n",
       "count             192.0               1.920000e+02   \n",
       "mean                2.0               1.281152e+07   \n",
       "std                 0.0               3.575310e+07   \n",
       "min                 2.0               1.089000e+03   \n",
       "25%                 2.0               3.198012e+05   \n",
       "50%                 2.0               1.327021e+06   \n",
       "75%                 2.0               9.354860e+06   \n",
       "max                 2.0               2.913466e+08   \n",
       "\n",
       "       Plastic waste generation [kg/day]  \\\n",
       "count                       1.920000e+02   \n",
       "mean                        1.420189e+06   \n",
       "std                         4.143231e+06   \n",
       "min                         1.410000e+02   \n",
       "25%                         3.561625e+04   \n",
       "50%                         1.427755e+05   \n",
       "75%                         1.049048e+06   \n",
       "max                         3.772938e+07   \n",
       "\n",
       "       Inadequately managed plastic waste [kg/day]  \\\n",
       "count                                 1.920000e+02   \n",
       "mean                                  4.262948e+05   \n",
       "std                                   1.925674e+06   \n",
       "min                                   0.000000e+00   \n",
       "25%                                   3.025000e+01   \n",
       "50%                                   1.496850e+04   \n",
       "75%                                   1.366930e+05   \n",
       "max                                   2.353030e+07   \n",
       "\n",
       "       Plastic waste littered\\n [kg/day]  \\\n",
       "count                         192.000000   \n",
       "mean                        28403.791667   \n",
       "std                         82864.637909   \n",
       "min                             3.000000   \n",
       "25%                           712.250000   \n",
       "50%                          2855.500000   \n",
       "75%                         20981.250000   \n",
       "max                        754588.000000   \n",
       "\n",
       "       Mismanaged plastic waste [kg/person/day]  \\\n",
       "count                                192.000000   \n",
       "mean                                   0.044370   \n",
       "std                                    0.049801   \n",
       "min                                    0.001000   \n",
       "25%                                    0.006000   \n",
       "50%                                    0.030500   \n",
       "75%                                    0.066000   \n",
       "max                                    0.299000   \n",
       "\n",
       "       Mismanaged plastic waste in 2010\\n [tonnes]  \\\n",
       "count                                 1.920000e+02   \n",
       "mean                                  1.659650e+05   \n",
       "std                                   7.210290e+05   \n",
       "min                                   1.000000e+00   \n",
       "25%                                   1.636000e+03   \n",
       "50%                                   1.538550e+04   \n",
       "75%                                   5.915600e+04   \n",
       "max                                   8.819717e+06   \n",
       "\n",
       "       Mismanaged plastic waste in 2025\\n [tonnes]  \n",
       "count                                 1.920000e+02  \n",
       "mean                                  3.601213e+05  \n",
       "std                                   1.510122e+06  \n",
       "min                                   2.000000e+00  \n",
       "25%                                   2.295000e+03  \n",
       "50%                                   2.459250e+04  \n",
       "75%                                   1.456510e+05  \n",
       "max                                   1.781478e+07  "
      ]
     },
     "execution_count": 11,
     "metadata": {},
     "output_type": "execute_result"
    }
   ],
   "source": [
    "df.describe()"
   ]
  },
  {
   "cell_type": "markdown",
   "metadata": {},
   "source": [
    "## Questions to Answer Through Analysis:\n",
    "\n",
    "1. How much waste is generated per year worldwide? Per Country? Highest and Lowest Countries?\n",
    "2. Do higher economic status countries produce more waste than low economic countries?\n",
    "3. How long will it take for waste to overpower common things in numbers?"
   ]
  },
  {
   "cell_type": "markdown",
   "metadata": {},
   "source": [
    "Let's look at our first question, How much waste is generated per year worldwide? Per country? Highest and lowest waste generation countries?"
   ]
  },
  {
   "cell_type": "code",
   "execution_count": 12,
   "metadata": {},
   "outputs": [
    {
     "data": {
      "text/html": [
       "<div>\n",
       "<style scoped>\n",
       "    .dataframe tbody tr th:only-of-type {\n",
       "        vertical-align: middle;\n",
       "    }\n",
       "\n",
       "    .dataframe tbody tr th {\n",
       "        vertical-align: top;\n",
       "    }\n",
       "\n",
       "    .dataframe thead th {\n",
       "        text-align: right;\n",
       "    }\n",
       "</style>\n",
       "<table border=\"1\" class=\"dataframe\">\n",
       "  <thead>\n",
       "    <tr style=\"text-align: right;\">\n",
       "      <th></th>\n",
       "      <th>Country</th>\n",
       "      <th>Economic status</th>\n",
       "      <th>Coastal population</th>\n",
       "      <th>Waste generation rate [kg/person/day]</th>\n",
       "      <th>% Plastic in waste stream</th>\n",
       "      <th>% Inadequately managed waste</th>\n",
       "      <th>% Littered waste</th>\n",
       "      <th>Waste generation [kg/day]</th>\n",
       "      <th>Plastic waste generation [kg/day]</th>\n",
       "      <th>Inadequately managed plastic waste [kg/day]</th>\n",
       "      <th>Plastic waste littered\\n [kg/day]</th>\n",
       "      <th>Mismanaged plastic waste [kg/person/day]</th>\n",
       "      <th>Mismanaged plastic waste in 2010\\n [tonnes]</th>\n",
       "      <th>Mismanaged plastic waste in 2025\\n [tonnes]</th>\n",
       "    </tr>\n",
       "  </thead>\n",
       "  <tbody>\n",
       "    <tr>\n",
       "      <th>175</th>\n",
       "      <td>Tokelau</td>\n",
       "      <td>LMI</td>\n",
       "      <td>1379</td>\n",
       "      <td>0.79</td>\n",
       "      <td>13.0</td>\n",
       "      <td>82.0</td>\n",
       "      <td>2.0</td>\n",
       "      <td>1089</td>\n",
       "      <td>141</td>\n",
       "      <td>116</td>\n",
       "      <td>3</td>\n",
       "      <td>0.086</td>\n",
       "      <td>43</td>\n",
       "      <td>100</td>\n",
       "    </tr>\n",
       "  </tbody>\n",
       "</table>\n",
       "</div>"
      ],
      "text/plain": [
       "     Country Economic status  Coastal population  \\\n",
       "175  Tokelau             LMI                1379   \n",
       "\n",
       "     Waste generation rate [kg/person/day]  % Plastic in waste stream  \\\n",
       "175                                   0.79                       13.0   \n",
       "\n",
       "     % Inadequately managed waste  % Littered waste  \\\n",
       "175                          82.0               2.0   \n",
       "\n",
       "     Waste generation [kg/day]  Plastic waste generation [kg/day]  \\\n",
       "175                       1089                                141   \n",
       "\n",
       "     Inadequately managed plastic waste [kg/day]  \\\n",
       "175                                          116   \n",
       "\n",
       "     Plastic waste littered\\n [kg/day]  \\\n",
       "175                                  3   \n",
       "\n",
       "     Mismanaged plastic waste [kg/person/day]  \\\n",
       "175                                     0.086   \n",
       "\n",
       "     Mismanaged plastic waste in 2010\\n [tonnes]  \\\n",
       "175                                           43   \n",
       "\n",
       "     Mismanaged plastic waste in 2025\\n [tonnes]  \n",
       "175                                          100  "
      ]
     },
     "execution_count": 12,
     "metadata": {},
     "output_type": "execute_result"
    }
   ],
   "source": [
    "#look into some statistics, max, min of waste by country\n",
    "df[df['Waste generation rate [kg/person/day]'] == df['Waste generation rate [kg/person/day]'].max()] \n",
    "#trinidad and tobago\n",
    "df[df['Waste generation rate [kg/person/day]'] == df['Waste generation rate [kg/person/day]'].min()]\n",
    "#mozambique\n",
    "df[df['Waste generation [kg/day]'] == df['Waste generation [kg/day]'].max()]\n",
    "#usa\n",
    "df[df['Waste generation [kg/day]'] == df['Waste generation [kg/day]'].min()]\n",
    "#tokelau\n",
    "df[df['Plastic waste generation [kg/day]'] == df['Plastic waste generation [kg/day]'].max()]\n",
    "#usa\n",
    "df[df['Plastic waste generation [kg/day]'] == df['Plastic waste generation [kg/day]'].min()]\n",
    "#tokelau"
   ]
  },
  {
   "cell_type": "code",
   "execution_count": 13,
   "metadata": {},
   "outputs": [
    {
     "name": "stdout",
     "output_type": "stream",
     "text": [
      "106341504620\n",
      "397485\n",
      "14.4\n",
      "0.14\n"
     ]
    }
   ],
   "source": [
    "print(df['Waste generation [kg/day]'].max() * 365)\n",
    "print(df['Waste generation [kg/day]'].min() * 365)\n",
    "\n",
    "print(df['Waste generation rate [kg/person/day]'].max())\n",
    "print(df['Waste generation rate [kg/person/day]'].min())"
   ]
  },
  {
   "cell_type": "markdown",
   "metadata": {},
   "source": [
    "The __United States__ generated the most waste (kg/day) of 291,346,588 kg/day. __Tokelau__ generates the least at 1089 kg/day. Annually 106,341,504,620 kg and 397,485 kg respectively. \n",
    "\n",
    "__Trinidad and Tobago__ generated the most waste per person (kg/person/day) at 14.4 kg/person/day, and __Mozambique__ generated the least per person per day at 0.14 kg/person/day."
   ]
  },
  {
   "cell_type": "code",
   "execution_count": 14,
   "metadata": {},
   "outputs": [
    {
     "name": "stdout",
     "output_type": "stream",
     "text": [
      "Waste generation per day worldwide is 2459811244 kg\n",
      "For 2010 that was 897831104060 kg\n"
     ]
    }
   ],
   "source": [
    "print('Waste generation per day worldwide is ' + str(df['Waste generation [kg/day]'].sum()) + ' kg')\n",
    "print('For 2010 that was ' + str(df['Waste generation [kg/day]'].sum() * 365) + ' kg')"
   ]
  },
  {
   "cell_type": "markdown",
   "metadata": {},
   "source": [
    "Worldwide waste generation is __2,459,811,244 kg/day__ totalling __897,831,104,060 kg__ in 2010."
   ]
  },
  {
   "cell_type": "code",
   "execution_count": 15,
   "metadata": {},
   "outputs": [
    {
     "data": {
      "image/png": "[encoded data removed]",
      "text/plain": [
       "<Figure size 720x576 with 1 Axes>"
      ]
     },
     "metadata": {
      "needs_background": "light"
     },
     "output_type": "display_data"
    }
   ],
   "source": [
    "top_waste_gen = df.sort_values(by=['Waste generation [kg/day]'], ascending=False).head(10)\n",
    "\n",
    "plt.figure(figsize=(10,8))\n",
    "plt.bar(top_waste_gen['Country'], top_waste_gen['Waste generation [kg/day]'], color='green')\n",
    "plt.xlabel('Country', fontsize=10)\n",
    "plt.ylabel('Waste Generation [kg/day]', fontsize=10)\n",
    "plt.xticks(rotation=45)\n",
    "plt.title('Countries with Highest Waste Generation in 2010', fontsize=14)\n",
    "plt.tight_layout();"
   ]
  },
  {
   "cell_type": "markdown",
   "metadata": {},
   "source": [
    "Now for Plastic Waste Generation"
   ]
  },
  {
   "cell_type": "code",
   "execution_count": 16,
   "metadata": {},
   "outputs": [
    {
     "name": "stdout",
     "output_type": "stream",
     "text": [
      "Plastic waste generation per day worldwide is 272676244 kg\n",
      "For 2010 that was 99526829060 kg\n"
     ]
    }
   ],
   "source": [
    "print('Plastic waste generation per day worldwide is ' + str(df['Plastic waste generation [kg/day]'].sum()) + ' kg')\n",
    "print('For 2010 that was ' + str(df['Plastic waste generation [kg/day]'].sum() * 365) + ' kg')"
   ]
  },
  {
   "cell_type": "markdown",
   "metadata": {},
   "source": [
    "Worldwide plastic waste generation per day was __272,676,244 kg__ totalling __99,526,829,060 kg__ in 2010."
   ]
  },
  {
   "cell_type": "code",
   "execution_count": 17,
   "metadata": {},
   "outputs": [
    {
     "data": {
      "image/png": "[encoded data removed]",
      "text/plain": [
       "<Figure size 720x576 with 1 Axes>"
      ]
     },
     "metadata": {
      "needs_background": "light"
     },
     "output_type": "display_data"
    }
   ],
   "source": [
    "top_plastic_gen = df.sort_values(by=['Plastic waste generation [kg/day]'], ascending=False).head(10)\n",
    "\n",
    "plt.figure(figsize=(10,8))\n",
    "plt.bar(top_plastic_gen['Country'], top_plastic_gen['Plastic waste generation [kg/day]'], color='skyblue')\n",
    "plt.xlabel('Country', fontsize=10)\n",
    "plt.ylabel('Plastic waste generation [kg/day]', fontsize=10)\n",
    "plt.xticks(rotation=45)\n",
    "plt.title('Countries with Highest Plastic Waste Generation in 2010', fontsize=14)\n",
    "plt.tight_layout();"
   ]
  },
  {
   "cell_type": "code",
   "execution_count": 18,
   "metadata": {},
   "outputs": [
    {
     "data": {
      "image/png": "[encoded data removed]",
      "text/plain": [
       "<Figure size 720x576 with 1 Axes>"
      ]
     },
     "metadata": {
      "needs_background": "light"
     },
     "output_type": "display_data"
    }
   ],
   "source": [
    "bottom_waste_gen = df.sort_values(by=['Waste generation [kg/day]']).head(10)\n",
    "\n",
    "plt.figure(figsize=(10,8))\n",
    "plt.bar(bottom_waste_gen['Country'], bottom_waste_gen['Waste generation [kg/day]'], color='orange')\n",
    "plt.xlabel('Country', fontsize=10)\n",
    "plt.ylabel('Waste Generation [kg/day]', fontsize=10)\n",
    "plt.xticks(rotation=45)\n",
    "plt.title('Countries with Lowest Waste Generation in 2010', fontsize=14)\n",
    "plt.tight_layout();"
   ]
  },
  {
   "cell_type": "code",
   "execution_count": 19,
   "metadata": {},
   "outputs": [
    {
     "data": {
      "text/html": [
       "<div>\n",
       "<style scoped>\n",
       "    .dataframe tbody tr th:only-of-type {\n",
       "        vertical-align: middle;\n",
       "    }\n",
       "\n",
       "    .dataframe tbody tr th {\n",
       "        vertical-align: top;\n",
       "    }\n",
       "\n",
       "    .dataframe thead th {\n",
       "        text-align: right;\n",
       "    }\n",
       "</style>\n",
       "<table border=\"1\" class=\"dataframe\">\n",
       "  <thead>\n",
       "    <tr style=\"text-align: right;\">\n",
       "      <th></th>\n",
       "      <th>Country</th>\n",
       "      <th>Economic status</th>\n",
       "      <th>Coastal population</th>\n",
       "      <th>Waste generation rate [kg/person/day]</th>\n",
       "      <th>% Plastic in waste stream</th>\n",
       "      <th>% Inadequately managed waste</th>\n",
       "      <th>% Littered waste</th>\n",
       "      <th>Waste generation [kg/day]</th>\n",
       "      <th>Plastic waste generation [kg/day]</th>\n",
       "      <th>Inadequately managed plastic waste [kg/day]</th>\n",
       "      <th>Plastic waste littered\\n [kg/day]</th>\n",
       "      <th>Mismanaged plastic waste [kg/person/day]</th>\n",
       "      <th>Mismanaged plastic waste in 2010\\n [tonnes]</th>\n",
       "      <th>Mismanaged plastic waste in 2025\\n [tonnes]</th>\n",
       "    </tr>\n",
       "  </thead>\n",
       "  <tbody>\n",
       "    <tr>\n",
       "      <th>175</th>\n",
       "      <td>Tokelau</td>\n",
       "      <td>LMI</td>\n",
       "      <td>1379</td>\n",
       "      <td>0.79</td>\n",
       "      <td>13.0</td>\n",
       "      <td>82.0</td>\n",
       "      <td>2.0</td>\n",
       "      <td>1089</td>\n",
       "      <td>141</td>\n",
       "      <td>116</td>\n",
       "      <td>3</td>\n",
       "      <td>0.086</td>\n",
       "      <td>43</td>\n",
       "      <td>100</td>\n",
       "    </tr>\n",
       "    <tr>\n",
       "      <th>31</th>\n",
       "      <td>Cocos Islands</td>\n",
       "      <td>HIC</td>\n",
       "      <td>596</td>\n",
       "      <td>2.10</td>\n",
       "      <td>12.0</td>\n",
       "      <td>0.0</td>\n",
       "      <td>2.0</td>\n",
       "      <td>1252</td>\n",
       "      <td>150</td>\n",
       "      <td>0</td>\n",
       "      <td>3</td>\n",
       "      <td>0.005</td>\n",
       "      <td>1</td>\n",
       "      <td>2</td>\n",
       "    </tr>\n",
       "    <tr>\n",
       "      <th>128</th>\n",
       "      <td>Norfolk Island</td>\n",
       "      <td>LMI</td>\n",
       "      <td>2156</td>\n",
       "      <td>0.79</td>\n",
       "      <td>13.0</td>\n",
       "      <td>82.0</td>\n",
       "      <td>2.0</td>\n",
       "      <td>1703</td>\n",
       "      <td>221</td>\n",
       "      <td>182</td>\n",
       "      <td>4</td>\n",
       "      <td>0.086</td>\n",
       "      <td>68</td>\n",
       "      <td>156</td>\n",
       "    </tr>\n",
       "    <tr>\n",
       "      <th>167</th>\n",
       "      <td>Svalbard</td>\n",
       "      <td>LMI</td>\n",
       "      <td>2226</td>\n",
       "      <td>0.79</td>\n",
       "      <td>13.0</td>\n",
       "      <td>0.0</td>\n",
       "      <td>2.0</td>\n",
       "      <td>1759</td>\n",
       "      <td>228</td>\n",
       "      <td>0</td>\n",
       "      <td>5</td>\n",
       "      <td>0.002</td>\n",
       "      <td>2</td>\n",
       "      <td>4</td>\n",
       "    </tr>\n",
       "    <tr>\n",
       "      <th>30</th>\n",
       "      <td>Christmas Island</td>\n",
       "      <td>HIC</td>\n",
       "      <td>1402</td>\n",
       "      <td>2.10</td>\n",
       "      <td>12.0</td>\n",
       "      <td>0.0</td>\n",
       "      <td>2.0</td>\n",
       "      <td>2944</td>\n",
       "      <td>352</td>\n",
       "      <td>0</td>\n",
       "      <td>7</td>\n",
       "      <td>0.005</td>\n",
       "      <td>3</td>\n",
       "      <td>4</td>\n",
       "    </tr>\n",
       "    <tr>\n",
       "      <th>127</th>\n",
       "      <td>Niue</td>\n",
       "      <td>HIC</td>\n",
       "      <td>1799</td>\n",
       "      <td>2.10</td>\n",
       "      <td>12.0</td>\n",
       "      <td>0.0</td>\n",
       "      <td>2.0</td>\n",
       "      <td>3778</td>\n",
       "      <td>451</td>\n",
       "      <td>1</td>\n",
       "      <td>9</td>\n",
       "      <td>0.006</td>\n",
       "      <td>4</td>\n",
       "      <td>5</td>\n",
       "    </tr>\n",
       "    <tr>\n",
       "      <th>55</th>\n",
       "      <td>Falkland Islands</td>\n",
       "      <td>HIC</td>\n",
       "      <td>2602</td>\n",
       "      <td>2.10</td>\n",
       "      <td>12.0</td>\n",
       "      <td>0.0</td>\n",
       "      <td>2.0</td>\n",
       "      <td>5464</td>\n",
       "      <td>653</td>\n",
       "      <td>0</td>\n",
       "      <td>13</td>\n",
       "      <td>0.005</td>\n",
       "      <td>5</td>\n",
       "      <td>7</td>\n",
       "    </tr>\n",
       "    <tr>\n",
       "      <th>116</th>\n",
       "      <td>Montserrat</td>\n",
       "      <td>UMI</td>\n",
       "      <td>5173</td>\n",
       "      <td>1.20</td>\n",
       "      <td>12.0</td>\n",
       "      <td>12.0</td>\n",
       "      <td>2.0</td>\n",
       "      <td>6208</td>\n",
       "      <td>742</td>\n",
       "      <td>89</td>\n",
       "      <td>15</td>\n",
       "      <td>0.020</td>\n",
       "      <td>38</td>\n",
       "      <td>71</td>\n",
       "    </tr>\n",
       "    <tr>\n",
       "      <th>146</th>\n",
       "      <td>Saint Helena</td>\n",
       "      <td>UMI</td>\n",
       "      <td>6839</td>\n",
       "      <td>1.20</td>\n",
       "      <td>12.0</td>\n",
       "      <td>25.0</td>\n",
       "      <td>2.0</td>\n",
       "      <td>8207</td>\n",
       "      <td>981</td>\n",
       "      <td>244</td>\n",
       "      <td>20</td>\n",
       "      <td>0.039</td>\n",
       "      <td>96</td>\n",
       "      <td>182</td>\n",
       "    </tr>\n",
       "    <tr>\n",
       "      <th>150</th>\n",
       "      <td>Saint Pierre</td>\n",
       "      <td>HIC</td>\n",
       "      <td>5888</td>\n",
       "      <td>2.10</td>\n",
       "      <td>12.0</td>\n",
       "      <td>0.0</td>\n",
       "      <td>2.0</td>\n",
       "      <td>12365</td>\n",
       "      <td>1478</td>\n",
       "      <td>0</td>\n",
       "      <td>30</td>\n",
       "      <td>0.005</td>\n",
       "      <td>11</td>\n",
       "      <td>15</td>\n",
       "    </tr>\n",
       "  </tbody>\n",
       "</table>\n",
       "</div>"
      ],
      "text/plain": [
       "              Country Economic status  Coastal population  \\\n",
       "175           Tokelau             LMI                1379   \n",
       "31      Cocos Islands             HIC                 596   \n",
       "128    Norfolk Island             LMI                2156   \n",
       "167          Svalbard             LMI                2226   \n",
       "30   Christmas Island             HIC                1402   \n",
       "127              Niue             HIC                1799   \n",
       "55   Falkland Islands             HIC                2602   \n",
       "116        Montserrat             UMI                5173   \n",
       "146      Saint Helena             UMI                6839   \n",
       "150      Saint Pierre             HIC                5888   \n",
       "\n",
       "     Waste generation rate [kg/person/day]  % Plastic in waste stream  \\\n",
       "175                                   0.79                       13.0   \n",
       "31                                    2.10                       12.0   \n",
       "128                                   0.79                       13.0   \n",
       "167                                   0.79                       13.0   \n",
       "30                                    2.10                       12.0   \n",
       "127                                   2.10                       12.0   \n",
       "55                                    2.10                       12.0   \n",
       "116                                   1.20                       12.0   \n",
       "146                                   1.20                       12.0   \n",
       "150                                   2.10                       12.0   \n",
       "\n",
       "     % Inadequately managed waste  % Littered waste  \\\n",
       "175                          82.0               2.0   \n",
       "31                            0.0               2.0   \n",
       "128                          82.0               2.0   \n",
       "167                           0.0               2.0   \n",
       "30                            0.0               2.0   \n",
       "127                           0.0               2.0   \n",
       "55                            0.0               2.0   \n",
       "116                          12.0               2.0   \n",
       "146                          25.0               2.0   \n",
       "150                           0.0               2.0   \n",
       "\n",
       "     Waste generation [kg/day]  Plastic waste generation [kg/day]  \\\n",
       "175                       1089                                141   \n",
       "31                        1252                                150   \n",
       "128                       1703                                221   \n",
       "167                       1759                                228   \n",
       "30                        2944                                352   \n",
       "127                       3778                                451   \n",
       "55                        5464                                653   \n",
       "116                       6208                                742   \n",
       "146                       8207                                981   \n",
       "150                      12365                               1478   \n",
       "\n",
       "     Inadequately managed plastic waste [kg/day]  \\\n",
       "175                                          116   \n",
       "31                                             0   \n",
       "128                                          182   \n",
       "167                                            0   \n",
       "30                                             0   \n",
       "127                                            1   \n",
       "55                                             0   \n",
       "116                                           89   \n",
       "146                                          244   \n",
       "150                                            0   \n",
       "\n",
       "     Plastic waste littered\\n [kg/day]  \\\n",
       "175                                  3   \n",
       "31                                   3   \n",
       "128                                  4   \n",
       "167                                  5   \n",
       "30                                   7   \n",
       "127                                  9   \n",
       "55                                  13   \n",
       "116                                 15   \n",
       "146                                 20   \n",
       "150                                 30   \n",
       "\n",
       "     Mismanaged plastic waste [kg/person/day]  \\\n",
       "175                                     0.086   \n",
       "31                                      0.005   \n",
       "128                                     0.086   \n",
       "167                                     0.002   \n",
       "30                                      0.005   \n",
       "127                                     0.006   \n",
       "55                                      0.005   \n",
       "116                                     0.020   \n",
       "146                                     0.039   \n",
       "150                                     0.005   \n",
       "\n",
       "     Mismanaged plastic waste in 2010\\n [tonnes]  \\\n",
       "175                                           43   \n",
       "31                                             1   \n",
       "128                                           68   \n",
       "167                                            2   \n",
       "30                                             3   \n",
       "127                                            4   \n",
       "55                                             5   \n",
       "116                                           38   \n",
       "146                                           96   \n",
       "150                                           11   \n",
       "\n",
       "     Mismanaged plastic waste in 2025\\n [tonnes]  \n",
       "175                                          100  \n",
       "31                                             2  \n",
       "128                                          156  \n",
       "167                                            4  \n",
       "30                                             4  \n",
       "127                                            5  \n",
       "55                                             7  \n",
       "116                                           71  \n",
       "146                                          182  \n",
       "150                                           15  "
      ]
     },
     "execution_count": 19,
     "metadata": {},
     "output_type": "execute_result"
    }
   ],
   "source": [
    "bottom_waste_gen"
   ]
  },
  {
   "cell_type": "code",
   "execution_count": 20,
   "metadata": {},
   "outputs": [
    {
     "name": "stdout",
     "output_type": "stream",
     "text": [
      "30060\n",
      "1066152449\n"
     ]
    },
    {
     "data": {
      "text/plain": [
       "35467.48000665336"
      ]
     },
     "execution_count": 20,
     "metadata": {},
     "output_type": "execute_result"
    }
   ],
   "source": [
    "print(sum(bottom_waste_gen['Coastal population']))\n",
    "print(sum(top_waste_gen['Coastal population']))\n",
    "\n",
    "sum(top_waste_gen['Coastal population'])/sum(bottom_waste_gen['Coastal population'])"
   ]
  },
  {
   "cell_type": "code",
   "execution_count": 21,
   "metadata": {},
   "outputs": [
    {
     "data": {
      "image/png": "[encoded data removed]",
      "text/plain": [
       "<Figure size 720x576 with 1 Axes>"
      ]
     },
     "metadata": {
      "needs_background": "light"
     },
     "output_type": "display_data"
    }
   ],
   "source": [
    "bottom_waste_gen_per_day = df.sort_values(by=['Waste generation rate [kg/person/day]']).head(10)\n",
    "\n",
    "plt.figure(figsize=(10,8))\n",
    "plt.bar(bottom_waste_gen_per_day['Country'], bottom_waste_gen_per_day['Waste generation rate [kg/person/day]'], color='pink')\n",
    "plt.xlabel('Country', fontsize=10)\n",
    "plt.ylabel('Waste generation rate [kg/person/day]', fontsize=10)\n",
    "plt.xticks(rotation=45)\n",
    "plt.title('Countries with Lowest Waste Generation per Person in 2010', fontsize=14)\n",
    "plt.tight_layout();"
   ]
  },
  {
   "cell_type": "code",
   "execution_count": 22,
   "metadata": {},
   "outputs": [
    {
     "data": {
      "text/html": [
       "<div>\n",
       "<style scoped>\n",
       "    .dataframe tbody tr th:only-of-type {\n",
       "        vertical-align: middle;\n",
       "    }\n",
       "\n",
       "    .dataframe tbody tr th {\n",
       "        vertical-align: top;\n",
       "    }\n",
       "\n",
       "    .dataframe thead th {\n",
       "        text-align: right;\n",
       "    }\n",
       "</style>\n",
       "<table border=\"1\" class=\"dataframe\">\n",
       "  <thead>\n",
       "    <tr style=\"text-align: right;\">\n",
       "      <th></th>\n",
       "      <th>Country</th>\n",
       "      <th>Economic status</th>\n",
       "      <th>Coastal population</th>\n",
       "      <th>Waste generation rate [kg/person/day]</th>\n",
       "      <th>% Plastic in waste stream</th>\n",
       "      <th>% Inadequately managed waste</th>\n",
       "      <th>% Littered waste</th>\n",
       "      <th>Waste generation [kg/day]</th>\n",
       "      <th>Plastic waste generation [kg/day]</th>\n",
       "      <th>Inadequately managed plastic waste [kg/day]</th>\n",
       "      <th>Plastic waste littered\\n [kg/day]</th>\n",
       "      <th>Mismanaged plastic waste [kg/person/day]</th>\n",
       "      <th>Mismanaged plastic waste in 2010\\n [tonnes]</th>\n",
       "      <th>Mismanaged plastic waste in 2025\\n [tonnes]</th>\n",
       "    </tr>\n",
       "  </thead>\n",
       "  <tbody>\n",
       "    <tr>\n",
       "      <th>118</th>\n",
       "      <td>Mozambique</td>\n",
       "      <td>LI</td>\n",
       "      <td>9566559</td>\n",
       "      <td>0.14</td>\n",
       "      <td>11.0</td>\n",
       "      <td>84.0</td>\n",
       "      <td>2.0</td>\n",
       "      <td>1339318</td>\n",
       "      <td>146655</td>\n",
       "      <td>123081</td>\n",
       "      <td>2933</td>\n",
       "      <td>0.013</td>\n",
       "      <td>45995</td>\n",
       "      <td>287067</td>\n",
       "    </tr>\n",
       "    <tr>\n",
       "      <th>89</th>\n",
       "      <td>Jamaica</td>\n",
       "      <td>UMI</td>\n",
       "      <td>2820558</td>\n",
       "      <td>0.18</td>\n",
       "      <td>19.0</td>\n",
       "      <td>27.0</td>\n",
       "      <td>2.0</td>\n",
       "      <td>507700</td>\n",
       "      <td>96209</td>\n",
       "      <td>25525</td>\n",
       "      <td>1924</td>\n",
       "      <td>0.010</td>\n",
       "      <td>10019</td>\n",
       "      <td>59575</td>\n",
       "    </tr>\n",
       "    <tr>\n",
       "      <th>171</th>\n",
       "      <td>Tanzania</td>\n",
       "      <td>LI</td>\n",
       "      <td>6688695</td>\n",
       "      <td>0.26</td>\n",
       "      <td>9.0</td>\n",
       "      <td>84.0</td>\n",
       "      <td>2.0</td>\n",
       "      <td>1739061</td>\n",
       "      <td>155646</td>\n",
       "      <td>129999</td>\n",
       "      <td>3113</td>\n",
       "      <td>0.020</td>\n",
       "      <td>48586</td>\n",
       "      <td>214196</td>\n",
       "    </tr>\n",
       "    <tr>\n",
       "      <th>93</th>\n",
       "      <td>Kenya</td>\n",
       "      <td>LI</td>\n",
       "      <td>2729945</td>\n",
       "      <td>0.30</td>\n",
       "      <td>9.0</td>\n",
       "      <td>83.0</td>\n",
       "      <td>2.0</td>\n",
       "      <td>818984</td>\n",
       "      <td>73299</td>\n",
       "      <td>60610</td>\n",
       "      <td>1466</td>\n",
       "      <td>0.023</td>\n",
       "      <td>22658</td>\n",
       "      <td>87109</td>\n",
       "    </tr>\n",
       "    <tr>\n",
       "      <th>81</th>\n",
       "      <td>India</td>\n",
       "      <td>LMI</td>\n",
       "      <td>187493433</td>\n",
       "      <td>0.34</td>\n",
       "      <td>3.0</td>\n",
       "      <td>85.0</td>\n",
       "      <td>2.0</td>\n",
       "      <td>63747767</td>\n",
       "      <td>1880559</td>\n",
       "      <td>1605729</td>\n",
       "      <td>37611</td>\n",
       "      <td>0.009</td>\n",
       "      <td>599819</td>\n",
       "      <td>2881294</td>\n",
       "    </tr>\n",
       "    <tr>\n",
       "      <th>10</th>\n",
       "      <td>Bangladesh</td>\n",
       "      <td>LI</td>\n",
       "      <td>70874124</td>\n",
       "      <td>0.43</td>\n",
       "      <td>8.0</td>\n",
       "      <td>87.0</td>\n",
       "      <td>2.0</td>\n",
       "      <td>30475873</td>\n",
       "      <td>2422832</td>\n",
       "      <td>2108603</td>\n",
       "      <td>48457</td>\n",
       "      <td>0.030</td>\n",
       "      <td>787327</td>\n",
       "      <td>2210230</td>\n",
       "    </tr>\n",
       "    <tr>\n",
       "      <th>21</th>\n",
       "      <td>Burma/Myanmar</td>\n",
       "      <td>LI</td>\n",
       "      <td>18988522</td>\n",
       "      <td>0.44</td>\n",
       "      <td>17.0</td>\n",
       "      <td>87.0</td>\n",
       "      <td>2.0</td>\n",
       "      <td>8354950</td>\n",
       "      <td>1416164</td>\n",
       "      <td>1227208</td>\n",
       "      <td>28323</td>\n",
       "      <td>0.066</td>\n",
       "      <td>458269</td>\n",
       "      <td>1149267</td>\n",
       "    </tr>\n",
       "    <tr>\n",
       "      <th>62</th>\n",
       "      <td>Gabon</td>\n",
       "      <td>UMI</td>\n",
       "      <td>862328</td>\n",
       "      <td>0.45</td>\n",
       "      <td>12.0</td>\n",
       "      <td>34.0</td>\n",
       "      <td>2.0</td>\n",
       "      <td>388048</td>\n",
       "      <td>46372</td>\n",
       "      <td>15750</td>\n",
       "      <td>927</td>\n",
       "      <td>0.019</td>\n",
       "      <td>6087</td>\n",
       "      <td>15446</td>\n",
       "    </tr>\n",
       "    <tr>\n",
       "      <th>157</th>\n",
       "      <td>Sierra Leone</td>\n",
       "      <td>LI</td>\n",
       "      <td>2887017</td>\n",
       "      <td>0.45</td>\n",
       "      <td>9.0</td>\n",
       "      <td>84.0</td>\n",
       "      <td>2.0</td>\n",
       "      <td>1299158</td>\n",
       "      <td>116275</td>\n",
       "      <td>97423</td>\n",
       "      <td>2325</td>\n",
       "      <td>0.035</td>\n",
       "      <td>36408</td>\n",
       "      <td>121312</td>\n",
       "    </tr>\n",
       "    <tr>\n",
       "      <th>2</th>\n",
       "      <td>Angola</td>\n",
       "      <td>LMI</td>\n",
       "      <td>3790041</td>\n",
       "      <td>0.48</td>\n",
       "      <td>13.0</td>\n",
       "      <td>71.0</td>\n",
       "      <td>2.0</td>\n",
       "      <td>1819220</td>\n",
       "      <td>235589</td>\n",
       "      <td>166597</td>\n",
       "      <td>4712</td>\n",
       "      <td>0.045</td>\n",
       "      <td>62528</td>\n",
       "      <td>136770</td>\n",
       "    </tr>\n",
       "  </tbody>\n",
       "</table>\n",
       "</div>"
      ],
      "text/plain": [
       "           Country Economic status  Coastal population  \\\n",
       "118     Mozambique              LI             9566559   \n",
       "89         Jamaica             UMI             2820558   \n",
       "171       Tanzania              LI             6688695   \n",
       "93           Kenya              LI             2729945   \n",
       "81           India             LMI           187493433   \n",
       "10      Bangladesh              LI            70874124   \n",
       "21   Burma/Myanmar              LI            18988522   \n",
       "62           Gabon             UMI              862328   \n",
       "157   Sierra Leone              LI             2887017   \n",
       "2           Angola             LMI             3790041   \n",
       "\n",
       "     Waste generation rate [kg/person/day]  % Plastic in waste stream  \\\n",
       "118                                   0.14                       11.0   \n",
       "89                                    0.18                       19.0   \n",
       "171                                   0.26                        9.0   \n",
       "93                                    0.30                        9.0   \n",
       "81                                    0.34                        3.0   \n",
       "10                                    0.43                        8.0   \n",
       "21                                    0.44                       17.0   \n",
       "62                                    0.45                       12.0   \n",
       "157                                   0.45                        9.0   \n",
       "2                                     0.48                       13.0   \n",
       "\n",
       "     % Inadequately managed waste  % Littered waste  \\\n",
       "118                          84.0               2.0   \n",
       "89                           27.0               2.0   \n",
       "171                          84.0               2.0   \n",
       "93                           83.0               2.0   \n",
       "81                           85.0               2.0   \n",
       "10                           87.0               2.0   \n",
       "21                           87.0               2.0   \n",
       "62                           34.0               2.0   \n",
       "157                          84.0               2.0   \n",
       "2                            71.0               2.0   \n",
       "\n",
       "     Waste generation [kg/day]  Plastic waste generation [kg/day]  \\\n",
       "118                    1339318                             146655   \n",
       "89                      507700                              96209   \n",
       "171                    1739061                             155646   \n",
       "93                      818984                              73299   \n",
       "81                    63747767                            1880559   \n",
       "10                    30475873                            2422832   \n",
       "21                     8354950                            1416164   \n",
       "62                      388048                              46372   \n",
       "157                    1299158                             116275   \n",
       "2                      1819220                             235589   \n",
       "\n",
       "     Inadequately managed plastic waste [kg/day]  \\\n",
       "118                                       123081   \n",
       "89                                         25525   \n",
       "171                                       129999   \n",
       "93                                         60610   \n",
       "81                                       1605729   \n",
       "10                                       2108603   \n",
       "21                                       1227208   \n",
       "62                                         15750   \n",
       "157                                        97423   \n",
       "2                                         166597   \n",
       "\n",
       "     Plastic waste littered\\n [kg/day]  \\\n",
       "118                               2933   \n",
       "89                                1924   \n",
       "171                               3113   \n",
       "93                                1466   \n",
       "81                               37611   \n",
       "10                               48457   \n",
       "21                               28323   \n",
       "62                                 927   \n",
       "157                               2325   \n",
       "2                                 4712   \n",
       "\n",
       "     Mismanaged plastic waste [kg/person/day]  \\\n",
       "118                                     0.013   \n",
       "89                                      0.010   \n",
       "171                                     0.020   \n",
       "93                                      0.023   \n",
       "81                                      0.009   \n",
       "10                                      0.030   \n",
       "21                                      0.066   \n",
       "62                                      0.019   \n",
       "157                                     0.035   \n",
       "2                                       0.045   \n",
       "\n",
       "     Mismanaged plastic waste in 2010\\n [tonnes]  \\\n",
       "118                                        45995   \n",
       "89                                         10019   \n",
       "171                                        48586   \n",
       "93                                         22658   \n",
       "81                                        599819   \n",
       "10                                        787327   \n",
       "21                                        458269   \n",
       "62                                          6087   \n",
       "157                                        36408   \n",
       "2                                          62528   \n",
       "\n",
       "     Mismanaged plastic waste in 2025\\n [tonnes]  \n",
       "118                                       287067  \n",
       "89                                         59575  \n",
       "171                                       214196  \n",
       "93                                         87109  \n",
       "81                                       2881294  \n",
       "10                                       2210230  \n",
       "21                                       1149267  \n",
       "62                                         15446  \n",
       "157                                       121312  \n",
       "2                                         136770  "
      ]
     },
     "execution_count": 22,
     "metadata": {},
     "output_type": "execute_result"
    }
   ],
   "source": [
    "bottom_waste_gen_per_day"
   ]
  },
  {
   "cell_type": "markdown",
   "metadata": {},
   "source": [
    "Above we have the countries that generated the least amount of waste in 2010. Granted these 10 countries have a combined coastal population of only 30,060 where as the 10 countries that generated the most waste has a coastal population of 1,066,152,449. \n",
    "\n",
    "When we take a look at the waste generation per person, we get a whole set of different countries with Mozambique generating the least waste per person. This is interesting, as the coastal population for these countries is combined 306,701,222 in 2010."
   ]
  },
  {
   "cell_type": "markdown",
   "metadata": {},
   "source": [
    "Does the economic status of a country show any trend in the amount of waste the country produces? Do higher income countries generate more? "
   ]
  },
  {
   "cell_type": "code",
   "execution_count": 23,
   "metadata": {},
   "outputs": [
    {
     "data": {
      "image/png": "[encoded data removed]",
      "text/plain": [
       "<Figure size 576x432 with 1 Axes>"
      ]
     },
     "metadata": {
      "needs_background": "light"
     },
     "output_type": "display_data"
    }
   ],
   "source": [
    "fig,ax = plt.subplots(figsize=(8,6))\n",
    "sns.countplot(data=df, x='Economic status', color=sns.color_palette()[2])\n",
    "plt.title('Countries per Economic Status', fontsize=14)\n",
    "\n",
    "for i in ax.patches:\n",
    "    ax.text(i.get_x()+0.3, i.get_height()+0.4,                           \n",
    "            str(round((i.get_height()), 2)), fontsize=10, color='black');"
   ]
  },
  {
   "cell_type": "markdown",
   "metadata": {},
   "source": [
    "Almost 40% of the countries were considered \"High Income Countries\" in 2010. This number has grown from 74 to 81 in 2019 according to [The World Bank]('https://datatopics.worldbank.org/world-development-indicators/stories/the-classification-of-countries-by-income.html#:~:text=As%20of%201%20July%202019,between%20%243%2C996%20and%20%2412%2C375%3B%20high%2D'). Let us see where these countries stand."
   ]
  },
  {
   "cell_type": "code",
   "execution_count": 25,
   "metadata": {},
   "outputs": [
    {
     "name": "stdout",
     "output_type": "stream",
     "text": [
      "The average waste generation worldwide was 12811516.895833334 kg/day.\n",
      "Low Income Countries generate an average of 4005247.380952381 kg/day of waste.\n",
      "Low Income countries generate about 3.2 times LESS than the world wide average.\n",
      "The average waste generation rate worldwide was 1.6427604166666663 kg/person/day.\n",
      "Low Income Countries generate an average of 0.6066666666666666 kg/person/day of waste.\n",
      "Low Income countries 2.7 times less waste per person per day than the world wide average.\n"
     ]
    }
   ],
   "source": [
    "print('The average waste generation worldwide was ' + str(df['Waste generation [kg/day]'].mean()) + ' kg/day.')\n",
    "\n",
    "print('Low Income Countries generate an average of ' + \n",
    "      str(df[df['Economic status'] == 'LI']['Waste generation [kg/day]'].mean()) + ' kg/day of waste.')\n",
    "\n",
    "print('Low Income countries generate about 3.2 times LESS than the world wide average.')\n",
    "\n",
    "\n",
    "print('The average waste generation rate worldwide was ' + \n",
    "      str(df['Waste generation rate [kg/person/day]'].mean()) + ' kg/person/day.')\n",
    "\n",
    "print('Low Income Countries generate an average of ' + \n",
    "      str(df[df['Economic status'] == 'LI']['Waste generation rate [kg/person/day]'].mean()) + \n",
    "      ' kg/person/day of waste.')\n",
    "\n",
    "print('Low Income countries 2.7 times less waste per person per day than the world wide average.')"
   ]
  },
  {
   "cell_type": "markdown",
   "metadata": {},
   "source": [
    "Not only do Low Income countries (`~$1025 or less`) produce an average of __3.2 times less__ waste than the rest of the world, but also produce __2.7 times less__ waste per person per day than the rest of the world as well. What about Lower Middle Income countries?"
   ]
  },
  {
   "cell_type": "code",
   "execution_count": 26,
   "metadata": {},
   "outputs": [
    {
     "name": "stdout",
     "output_type": "stream",
     "text": [
      "The average waste generation worldwide was 12811516.895833334 kg/day.\n",
      "Lower Middle Income Countries generate an average of 11147608.159090908 kg/day of waste.\n",
      "The average waste generation rate worldwide was 1.6427604166666663 kg/person/day.\n",
      "Low Middle Income Countries generate an average of 1.2361363636363634 kg/person/day of waste.\n"
     ]
    }
   ],
   "source": [
    "world_waste_mean = df['Waste generation [kg/day]'].mean()\n",
    "\n",
    "print('The average waste generation worldwide was ' + str(world_waste_mean) + ' kg/day.')\n",
    "\n",
    "print('Lower Middle Income Countries generate an average of ' + \n",
    "      str(df[df['Economic status'] == 'LMI']['Waste generation [kg/day]'].mean()) + ' kg/day of waste.')\n",
    "\n",
    "world_waste_rate_mean = df['Waste generation rate [kg/person/day]'].mean()\n",
    "\n",
    "print('The average waste generation rate worldwide was ' + \n",
    "      str(df['Waste generation rate [kg/person/day]'].mean()) + ' kg/person/day.')\n",
    "\n",
    "print('Low Middle Income Countries generate an average of ' + \n",
    "      str(df[df['Economic status'] == 'LMI']['Waste generation rate [kg/person/day]'].mean()) + \n",
    "      ' kg/person/day of waste.')"
   ]
  },
  {
   "cell_type": "code",
   "execution_count": 27,
   "metadata": {},
   "outputs": [
    {
     "name": "stdout",
     "output_type": "stream",
     "text": [
      "1.1492615019290486\n",
      "1.3289475700189985\n"
     ]
    }
   ],
   "source": [
    "print(world_waste_mean/11147608.159090908)\n",
    "print(world_waste_rate_mean/1.2361363636363634)"
   ]
  },
  {
   "cell_type": "markdown",
   "metadata": {},
   "source": [
    "Lower Middle Income countries (`~$1,026 and $3,995`) produce about __1.15 times less__ waste than the worldwide average, as well as __1.33 times less__ than the worldwide per person per day average."
   ]
  },
  {
   "cell_type": "code",
   "execution_count": 28,
   "metadata": {},
   "outputs": [
    {
     "name": "stdout",
     "output_type": "stream",
     "text": [
      "Upper Middle Income Countries generate an average of 13254704.679245284 kg/day of waste.\n",
      "Upper Middle Income Countries generate an average of 1.4541509433962272 kg/person/day of waste.\n"
     ]
    }
   ],
   "source": [
    "print('Upper Middle Income Countries generate an average of ' + \n",
    "      str(df[df['Economic status'] == 'UMI']['Waste generation [kg/day]'].mean()) + ' kg/day of waste.')\n",
    "\n",
    "\n",
    "print('Upper Middle Income Countries generate an average of ' + \n",
    "      str(df[df['Economic status'] == 'UMI']['Waste generation rate [kg/person/day]'].mean()) + \n",
    "      ' kg/person/day of waste.')"
   ]
  },
  {
   "cell_type": "code",
   "execution_count": 29,
   "metadata": {},
   "outputs": [
    {
     "name": "stdout",
     "output_type": "stream",
     "text": [
      "1.0345929203399862\n",
      "1.1297041920764663\n"
     ]
    }
   ],
   "source": [
    "print(13254704.679245284/world_waste_mean)\n",
    "print(world_waste_rate_mean/1.4541509433962272)"
   ]
  },
  {
   "cell_type": "markdown",
   "metadata": {},
   "source": [
    "Upper Middle Income countries (`~$3,996 and $12,375`) produce __1.03 times MORE__ waste per day than the world wide average, but about __1.13 times LESS__ waste per person per day than the world wide average. What will we see for the high income countries? "
   ]
  },
  {
   "cell_type": "code",
   "execution_count": 30,
   "metadata": {},
   "outputs": [
    {
     "name": "stdout",
     "output_type": "stream",
     "text": [
      "High Income Countries generate an average of 15982526.243243244 kg/day of waste.\n",
      "High Income Countries generate an average of 2.313648648648648 kg/person/day of waste.\n"
     ]
    }
   ],
   "source": [
    "print('High Income Countries generate an average of ' + \n",
    "      str(df[df['Economic status'] == 'HIC']['Waste generation [kg/day]'].mean()) + ' kg/day of waste.')\n",
    "\n",
    "\n",
    "print('High Income Countries generate an average of ' + \n",
    "      str(df[df['Economic status'] == 'HIC']['Waste generation rate [kg/person/day]'].mean()) + \n",
    "      ' kg/person/day of waste.')"
   ]
  },
  {
   "cell_type": "code",
   "execution_count": 31,
   "metadata": {},
   "outputs": [
    {
     "name": "stdout",
     "output_type": "stream",
     "text": [
      "1.247512404127665\n",
      "1.4083907946499492\n"
     ]
    }
   ],
   "source": [
    "print(15982526.243243244/world_waste_mean)\n",
    "print(2.313648648648648/world_waste_rate_mean)"
   ]
  },
  {
   "cell_type": "markdown",
   "metadata": {},
   "source": [
    "High Income countries (`~$12,376 or more`) produce on average 15,982,526 kg/day of waste which is __1.25 times MORE__ than the world wide average. Per person per day, High Income countries generate 2.3 kg/person/day averaging about __1.4 times MORE__ than the world wide average."
   ]
  },
  {
   "cell_type": "code",
   "execution_count": 32,
   "metadata": {},
   "outputs": [],
   "source": [
    "econ_status = df.groupby(['Economic status']).mean()['Waste generation [kg/day]']"
   ]
  },
  {
   "cell_type": "code",
   "execution_count": 33,
   "metadata": {},
   "outputs": [
    {
     "data": {
      "image/png": "[encoded data removed]",
      "text/plain": [
       "<Figure size 720x576 with 1 Axes>"
      ]
     },
     "metadata": {
      "needs_background": "light"
     },
     "output_type": "display_data"
    }
   ],
   "source": [
    "fig,ax = plt.subplots(figsize=(10,8))\n",
    "econ_status.sort_values(ascending=False).plot(kind='bar')\n",
    "\n",
    "plt.title('Average Waste Generation of Countries by Economic Status', fontsize=14)\n",
    "plt.xlabel('Economic Status', fontsize=10)\n",
    "plt.ylabel('Average Waste Generation (kg/day)', fontsize=10)\n",
    "\n",
    "ax.axhline(df['Waste generation [kg/day]'].mean(), color='red', linewidth=2)\n",
    "\n",
    "for i in ax.patches:\n",
    "    ax.text(i.get_x(), i.get_height()+100000,                           \n",
    "            str(round((i.get_height()), 2)), fontsize=10, color='black');"
   ]
  },
  {
   "cell_type": "markdown",
   "metadata": {},
   "source": [
    "In 2010, High Income and Upper Middle Income status countries generated more waste versus their Lower Middle to Low Income country counterparts. On average generating above the world average. This result shouldn't come to a surprise."
   ]
  },
  {
   "cell_type": "code",
   "execution_count": 34,
   "metadata": {
    "scrolled": true
   },
   "outputs": [
    {
     "data": {
      "image/png": "[encoded data removed]",
      "text/plain": [
       "<Figure size 720x576 with 1 Axes>"
      ]
     },
     "metadata": {
      "needs_background": "light"
     },
     "output_type": "display_data"
    }
   ],
   "source": [
    "plastic_status = df.groupby(['Economic status']).mean()['Plastic waste generation [kg/day]']\n",
    "\n",
    "fig,ax = plt.subplots(figsize=(10,8))\n",
    "plastic_status.sort_values(ascending=False).plot(kind='bar', color='black')\n",
    "\n",
    "plt.title('Average Plastic Waste Generation of Countries by Economic Status', fontsize=14)\n",
    "plt.xlabel('Economic Status', fontsize=10)\n",
    "plt.ylabel('Average Plastic Waste Generation (kg/day)', fontsize=10)\n",
    "\n",
    "ax.axhline(df['Plastic waste generation [kg/day]'].mean(), color='red', linewidth=2)\n",
    "\n",
    "for i in ax.patches:\n",
    "    ax.text(i.get_x()+0.05, i.get_height()+10000,                           \n",
    "            str(round((i.get_height()), 2)), fontsize=10, color='black');"
   ]
  },
  {
   "cell_type": "markdown",
   "metadata": {},
   "source": [
    "We see the same result for Plastic Waste Generation per day, where High Income and Upper Middle Income countries are above the world wide average, and Lower Middle and Low Income countries fall below the average line."
   ]
  },
  {
   "cell_type": "code",
   "execution_count": 45,
   "metadata": {},
   "outputs": [
    {
     "data": {
      "image/png": "[encoded data removed]",
      "text/plain": [
       "<Figure size 720x576 with 1 Axes>"
      ]
     },
     "metadata": {
      "needs_background": "light"
     },
     "output_type": "display_data"
    }
   ],
   "source": [
    "waste_per_day_status = df.groupby(['Economic status']).mean()['Waste generation rate [kg/person/day]']\n",
    "\n",
    "fig,ax = plt.subplots(figsize=(10,8))\n",
    "waste_per_day_status.sort_values(ascending=False).plot(kind='bar', color='grey')\n",
    "\n",
    "plt.title('Average Waste Generation Rate by Economic Status', fontsize=14)\n",
    "plt.xlabel('Economic Status', fontsize=10)\n",
    "plt.ylabel('Average Waste Generation Rate (kg/person/day)', fontsize=10)\n",
    "\n",
    "ax.axhline(df['Waste generation rate [kg/person/day]'].mean(), color='red', linewidth=2)\n",
    "\n",
    "for i in ax.patches:\n",
    "    ax.text(i.get_x()+0.15, i.get_height()+0.01,                           \n",
    "            str(round((i.get_height()), 2)), fontsize=10, color='black');"
   ]
  },
  {
   "cell_type": "markdown",
   "metadata": {},
   "source": [
    "Overall, countries with higher economic status do indeed produce more waste overall. Even individually, higher economic countries produce more waste per person than lower income status countries."
   ]
  },
  {
   "cell_type": "code",
   "execution_count": 36,
   "metadata": {},
   "outputs": [
    {
     "data": {
      "text/plain": [
       "897831104060"
      ]
     },
     "execution_count": 36,
     "metadata": {},
     "output_type": "execute_result"
    }
   ],
   "source": [
    "waste_sum = df['Waste generation [kg/day]'].sum() * 365\n",
    "waste_sum"
   ]
  },
  {
   "cell_type": "markdown",
   "metadata": {},
   "source": [
    "Now, 2,459,811,244 kg of waste EVERY DAY for a total of 897,831,104,060 kg for all of 2010 is an immense amount. That is 897,831,104 TONNES! This led me to analyze and compare the number of \"things in the world\" to the amount of waste we generate.\n",
    "\n",
    "- There are a reported 3 trillion trees in the world\n",
    "- There are a reported 3.5 trillion fish in the sea"
   ]
  },
  {
   "cell_type": "code",
   "execution_count": 37,
   "metadata": {},
   "outputs": [],
   "source": [
    "trees_worldwide = 3000000000000\n",
    "fish_worldwide = 3500000000000\n",
    "\n",
    "years_trees = trees_worldwide/waste_sum\n",
    "years_fish = fish_worldwide/waste_sum"
   ]
  },
  {
   "cell_type": "code",
   "execution_count": 38,
   "metadata": {},
   "outputs": [
    {
     "name": "stdout",
     "output_type": "stream",
     "text": [
      "3.3413856864993585\n",
      "3.898283300915918\n"
     ]
    }
   ],
   "source": [
    "print(years_trees)\n",
    "print(years_fish)"
   ]
  },
  {
   "cell_type": "markdown",
   "metadata": {},
   "source": [
    "If we were to not increase our waste generation for the next 4 years, our waste generation would already surpass the number of trees and fish worldwide."
   ]
  },
  {
   "cell_type": "code",
   "execution_count": 47,
   "metadata": {},
   "outputs": [
    {
     "data": {
      "text/plain": [
       "1.6427604166666663"
      ]
     },
     "execution_count": 47,
     "metadata": {},
     "output_type": "execute_result"
    }
   ],
   "source": [
    "df['Waste generation rate [kg/person/day]'].mean()"
   ]
  },
  {
   "cell_type": "code",
   "execution_count": null,
   "metadata": {},
   "outputs": [],
   "source": []
  }
 ],
 "metadata": {
  "kernelspec": {
   "display_name": "Python 3",
   "language": "python",
   "name": "python3"
  },
  "language_info": {
   "codemirror_mode": {
    "name": "ipython",
    "version": 3
   },
   "file_extension": ".py",
   "mimetype": "text/x-python",
   "name": "python",
   "nbconvert_exporter": "python",
   "pygments_lexer": "ipython3",
   "version": "3.7.4"
  }
 },
 "nbformat": 4,
 "nbformat_minor": 2
}
